{
  "nbformat": 4,
  "nbformat_minor": 0,
  "metadata": {
    "colab": {
      "name": "Copy of Churn_modelling.ipynb",
      "version": "0.3.2",
      "provenance": [],
      "collapsed_sections": [],
      "include_colab_link": true
    },
    "kernelspec": {
      "display_name": "Python 3",
      "language": "python",
      "name": "python3"
    }
  },
  "cells": [
    {
      "cell_type": "markdown",
      "metadata": {
        "id": "view-in-github",
        "colab_type": "text"
      },
      "source": [
        "<a href=\"https://colab.research.google.com/github/pytholabsbot1/Churn_modelling_with_ann_keras/blob/master/Churn_modelling1.ipynb\" target=\"_parent\"><img src=\"https://colab.research.google.com/assets/colab-badge.svg\" alt=\"Open In Colab\"/></a>"
      ]
    },
    {
      "metadata": {
        "id": "iA5Fpo9n3Jy1",
        "colab_type": "text"
      },
      "cell_type": "markdown",
      "source": [
        "http://www.algosome.com/articles/dummy-variable-trap-regression.html"
      ]
    },
    {
      "metadata": {
        "id": "mLyq8-hz3Jy4",
        "colab_type": "text"
      },
      "cell_type": "markdown",
      "source": [
        "https://medium.com/coinmonks/building-your-own-artificial-neural-network-from-scratch-on-churn-modeling-dataset-using-keras-in-690782f7d051"
      ]
    },
    {
      "metadata": {
        "id": "8xQHxwtgBVPQ",
        "colab_type": "text"
      },
      "cell_type": "markdown",
      "source": [
        "https://github.com/pytholabsbot1/Churn_modelling_with_ann_keras"
      ]
    },
    {
      "metadata": {
        "id": "ABapcjjeBhIN",
        "colab_type": "text"
      },
      "cell_type": "markdown",
      "source": [
        "https://towardsdatascience.com/understanding-auc-roc-curve-68b2303cc9c5\n"
      ]
    },
    {
      "metadata": {
        "id": "f97gQSexXB68",
        "colab_type": "text"
      },
      "cell_type": "markdown",
      "source": [
        "https://machinelearningmastery.com/save-load-keras-deep-learning-models/\n",
        "\n",
        "https://www.kaggle.com/residentmario/l1-norms-versus-l2-norms"
      ]
    },
    {
      "metadata": {
        "id": "lWF0FIIm3Jy6",
        "colab_type": "code",
        "colab": {}
      },
      "cell_type": "code",
      "source": [
        "import numpy as np,sklearn,matplotlib.pyplot as plt,pandas as pd\n",
        "from sklearn.metrics import confusion_matrix\n",
        "from google.colab import files\n",
        "import requests \n",
        "\n",
        "r = requests.get('https://raw.githubusercontent.com/pytholabsbot1/Churn_modelling_with_ann_keras/master/data.csv', stream=True)\n",
        "with open('data.csv', 'wb') as f:\n",
        "    for chunk in r.iter_content(chunk_size=1024): \n",
        "        if chunk: # filter out keep-alive new chunks\n",
        "            f.write(chunk)\n"
      ],
      "execution_count": 0,
      "outputs": []
    },
    {
      "metadata": {
        "id": "s5AiGwSZ3Jy-",
        "colab_type": "code",
        "colab": {}
      },
      "cell_type": "code",
      "source": [
        "data = pd.read_csv('data.csv')"
      ],
      "execution_count": 0,
      "outputs": []
    },
    {
      "metadata": {
        "id": "wQBRYBcv3JzC",
        "colab_type": "code",
        "outputId": "6eb3b110-2004-477e-f59b-dbfefdbe03fc",
        "colab": {
          "base_uri": "https://localhost:8080/",
          "height": 222
        }
      },
      "cell_type": "code",
      "source": [
        "data.head()\n"
      ],
      "execution_count": 0,
      "outputs": [
        {
          "output_type": "execute_result",
          "data": {
            "text/html": [
              "<div>\n",
              "<style scoped>\n",
              "    .dataframe tbody tr th:only-of-type {\n",
              "        vertical-align: middle;\n",
              "    }\n",
              "\n",
              "    .dataframe tbody tr th {\n",
              "        vertical-align: top;\n",
              "    }\n",
              "\n",
              "    .dataframe thead th {\n",
              "        text-align: right;\n",
              "    }\n",
              "</style>\n",
              "<table border=\"1\" class=\"dataframe\">\n",
              "  <thead>\n",
              "    <tr style=\"text-align: right;\">\n",
              "      <th></th>\n",
              "      <th>RowNumber</th>\n",
              "      <th>CustomerId</th>\n",
              "      <th>Surname</th>\n",
              "      <th>CreditScore</th>\n",
              "      <th>Geography</th>\n",
              "      <th>Gender</th>\n",
              "      <th>Age</th>\n",
              "      <th>Tenure</th>\n",
              "      <th>Balance</th>\n",
              "      <th>NumOfProducts</th>\n",
              "      <th>HasCrCard</th>\n",
              "      <th>IsActiveMember</th>\n",
              "      <th>EstimatedSalary</th>\n",
              "      <th>Left</th>\n",
              "    </tr>\n",
              "  </thead>\n",
              "  <tbody>\n",
              "    <tr>\n",
              "      <th>0</th>\n",
              "      <td>1</td>\n",
              "      <td>15634602</td>\n",
              "      <td>Hargrave</td>\n",
              "      <td>619</td>\n",
              "      <td>France</td>\n",
              "      <td>Female</td>\n",
              "      <td>42</td>\n",
              "      <td>2</td>\n",
              "      <td>0.00</td>\n",
              "      <td>1</td>\n",
              "      <td>1</td>\n",
              "      <td>1</td>\n",
              "      <td>101348.88</td>\n",
              "      <td>1</td>\n",
              "    </tr>\n",
              "    <tr>\n",
              "      <th>1</th>\n",
              "      <td>2</td>\n",
              "      <td>15647311</td>\n",
              "      <td>Hill</td>\n",
              "      <td>608</td>\n",
              "      <td>Spain</td>\n",
              "      <td>Female</td>\n",
              "      <td>41</td>\n",
              "      <td>1</td>\n",
              "      <td>83807.86</td>\n",
              "      <td>1</td>\n",
              "      <td>0</td>\n",
              "      <td>1</td>\n",
              "      <td>112542.58</td>\n",
              "      <td>0</td>\n",
              "    </tr>\n",
              "    <tr>\n",
              "      <th>2</th>\n",
              "      <td>3</td>\n",
              "      <td>15619304</td>\n",
              "      <td>Onio</td>\n",
              "      <td>502</td>\n",
              "      <td>France</td>\n",
              "      <td>Female</td>\n",
              "      <td>42</td>\n",
              "      <td>8</td>\n",
              "      <td>159660.80</td>\n",
              "      <td>3</td>\n",
              "      <td>1</td>\n",
              "      <td>0</td>\n",
              "      <td>113931.57</td>\n",
              "      <td>1</td>\n",
              "    </tr>\n",
              "    <tr>\n",
              "      <th>3</th>\n",
              "      <td>4</td>\n",
              "      <td>15701354</td>\n",
              "      <td>Boni</td>\n",
              "      <td>699</td>\n",
              "      <td>France</td>\n",
              "      <td>Female</td>\n",
              "      <td>39</td>\n",
              "      <td>1</td>\n",
              "      <td>0.00</td>\n",
              "      <td>2</td>\n",
              "      <td>0</td>\n",
              "      <td>0</td>\n",
              "      <td>93826.63</td>\n",
              "      <td>0</td>\n",
              "    </tr>\n",
              "    <tr>\n",
              "      <th>4</th>\n",
              "      <td>5</td>\n",
              "      <td>15737888</td>\n",
              "      <td>Mitchell</td>\n",
              "      <td>850</td>\n",
              "      <td>Spain</td>\n",
              "      <td>Female</td>\n",
              "      <td>43</td>\n",
              "      <td>2</td>\n",
              "      <td>125510.82</td>\n",
              "      <td>1</td>\n",
              "      <td>1</td>\n",
              "      <td>1</td>\n",
              "      <td>79084.10</td>\n",
              "      <td>0</td>\n",
              "    </tr>\n",
              "  </tbody>\n",
              "</table>\n",
              "</div>"
            ],
            "text/plain": [
              "   RowNumber  CustomerId   Surname  CreditScore Geography  Gender  Age  \\\n",
              "0          1    15634602  Hargrave          619    France  Female   42   \n",
              "1          2    15647311      Hill          608     Spain  Female   41   \n",
              "2          3    15619304      Onio          502    France  Female   42   \n",
              "3          4    15701354      Boni          699    France  Female   39   \n",
              "4          5    15737888  Mitchell          850     Spain  Female   43   \n",
              "\n",
              "   Tenure    Balance  NumOfProducts  HasCrCard  IsActiveMember  \\\n",
              "0       2       0.00              1          1               1   \n",
              "1       1   83807.86              1          0               1   \n",
              "2       8  159660.80              3          1               0   \n",
              "3       1       0.00              2          0               0   \n",
              "4       2  125510.82              1          1               1   \n",
              "\n",
              "   EstimatedSalary  Left  \n",
              "0        101348.88     1  \n",
              "1        112542.58     0  \n",
              "2        113931.57     1  \n",
              "3         93826.63     0  \n",
              "4         79084.10     0  "
            ]
          },
          "metadata": {
            "tags": []
          },
          "execution_count": 3
        }
      ]
    },
    {
      "metadata": {
        "id": "u2KS0UAe3JzJ",
        "colab_type": "code",
        "outputId": "b925f702-8fdb-4bdf-e109-0a843757f57b",
        "colab": {
          "base_uri": "https://localhost:8080/",
          "height": 35
        }
      },
      "cell_type": "code",
      "source": [
        "print(data.shape)"
      ],
      "execution_count": 0,
      "outputs": [
        {
          "output_type": "stream",
          "text": [
            "(10000, 14)\n"
          ],
          "name": "stdout"
        }
      ]
    },
    {
      "metadata": {
        "id": "QMmx_nJ13JzN",
        "colab_type": "code",
        "colab": {}
      },
      "cell_type": "code",
      "source": [
        "X = data.iloc[:,3:13]"
      ],
      "execution_count": 0,
      "outputs": []
    },
    {
      "metadata": {
        "id": "pL0ByA8j3JzQ",
        "colab_type": "code",
        "colab": {}
      },
      "cell_type": "code",
      "source": [
        "y = data.iloc[:,13] "
      ],
      "execution_count": 0,
      "outputs": []
    },
    {
      "metadata": {
        "id": "soxJubPB3JzT",
        "colab_type": "code",
        "colab": {}
      },
      "cell_type": "code",
      "source": [
        "geo = pd.get_dummies(X['Geography']).iloc[:,1:]\n",
        "gender = pd.get_dummies(X['Gender']).iloc[:,1:]"
      ],
      "execution_count": 0,
      "outputs": []
    },
    {
      "metadata": {
        "id": "6DgMHO3o3JzX",
        "colab_type": "code",
        "outputId": "f79d89e1-a9fd-4e75-97c7-befe08dd6b23",
        "colab": {
          "base_uri": "https://localhost:8080/",
          "height": 1949
        }
      },
      "cell_type": "code",
      "source": [
        "geo.append(gender)"
      ],
      "execution_count": 0,
      "outputs": [
        {
          "output_type": "execute_result",
          "data": {
            "text/html": [
              "<div>\n",
              "<style scoped>\n",
              "    .dataframe tbody tr th:only-of-type {\n",
              "        vertical-align: middle;\n",
              "    }\n",
              "\n",
              "    .dataframe tbody tr th {\n",
              "        vertical-align: top;\n",
              "    }\n",
              "\n",
              "    .dataframe thead th {\n",
              "        text-align: right;\n",
              "    }\n",
              "</style>\n",
              "<table border=\"1\" class=\"dataframe\">\n",
              "  <thead>\n",
              "    <tr style=\"text-align: right;\">\n",
              "      <th></th>\n",
              "      <th>Germany</th>\n",
              "      <th>Male</th>\n",
              "      <th>Spain</th>\n",
              "    </tr>\n",
              "  </thead>\n",
              "  <tbody>\n",
              "    <tr>\n",
              "      <th>0</th>\n",
              "      <td>0.0</td>\n",
              "      <td>NaN</td>\n",
              "      <td>0.0</td>\n",
              "    </tr>\n",
              "    <tr>\n",
              "      <th>1</th>\n",
              "      <td>0.0</td>\n",
              "      <td>NaN</td>\n",
              "      <td>1.0</td>\n",
              "    </tr>\n",
              "    <tr>\n",
              "      <th>2</th>\n",
              "      <td>0.0</td>\n",
              "      <td>NaN</td>\n",
              "      <td>0.0</td>\n",
              "    </tr>\n",
              "    <tr>\n",
              "      <th>3</th>\n",
              "      <td>0.0</td>\n",
              "      <td>NaN</td>\n",
              "      <td>0.0</td>\n",
              "    </tr>\n",
              "    <tr>\n",
              "      <th>4</th>\n",
              "      <td>0.0</td>\n",
              "      <td>NaN</td>\n",
              "      <td>1.0</td>\n",
              "    </tr>\n",
              "    <tr>\n",
              "      <th>5</th>\n",
              "      <td>0.0</td>\n",
              "      <td>NaN</td>\n",
              "      <td>1.0</td>\n",
              "    </tr>\n",
              "    <tr>\n",
              "      <th>6</th>\n",
              "      <td>0.0</td>\n",
              "      <td>NaN</td>\n",
              "      <td>0.0</td>\n",
              "    </tr>\n",
              "    <tr>\n",
              "      <th>7</th>\n",
              "      <td>1.0</td>\n",
              "      <td>NaN</td>\n",
              "      <td>0.0</td>\n",
              "    </tr>\n",
              "    <tr>\n",
              "      <th>8</th>\n",
              "      <td>0.0</td>\n",
              "      <td>NaN</td>\n",
              "      <td>0.0</td>\n",
              "    </tr>\n",
              "    <tr>\n",
              "      <th>9</th>\n",
              "      <td>0.0</td>\n",
              "      <td>NaN</td>\n",
              "      <td>0.0</td>\n",
              "    </tr>\n",
              "    <tr>\n",
              "      <th>10</th>\n",
              "      <td>0.0</td>\n",
              "      <td>NaN</td>\n",
              "      <td>0.0</td>\n",
              "    </tr>\n",
              "    <tr>\n",
              "      <th>11</th>\n",
              "      <td>0.0</td>\n",
              "      <td>NaN</td>\n",
              "      <td>1.0</td>\n",
              "    </tr>\n",
              "    <tr>\n",
              "      <th>12</th>\n",
              "      <td>0.0</td>\n",
              "      <td>NaN</td>\n",
              "      <td>0.0</td>\n",
              "    </tr>\n",
              "    <tr>\n",
              "      <th>13</th>\n",
              "      <td>0.0</td>\n",
              "      <td>NaN</td>\n",
              "      <td>0.0</td>\n",
              "    </tr>\n",
              "    <tr>\n",
              "      <th>14</th>\n",
              "      <td>0.0</td>\n",
              "      <td>NaN</td>\n",
              "      <td>1.0</td>\n",
              "    </tr>\n",
              "    <tr>\n",
              "      <th>15</th>\n",
              "      <td>1.0</td>\n",
              "      <td>NaN</td>\n",
              "      <td>0.0</td>\n",
              "    </tr>\n",
              "    <tr>\n",
              "      <th>16</th>\n",
              "      <td>1.0</td>\n",
              "      <td>NaN</td>\n",
              "      <td>0.0</td>\n",
              "    </tr>\n",
              "    <tr>\n",
              "      <th>17</th>\n",
              "      <td>0.0</td>\n",
              "      <td>NaN</td>\n",
              "      <td>1.0</td>\n",
              "    </tr>\n",
              "    <tr>\n",
              "      <th>18</th>\n",
              "      <td>0.0</td>\n",
              "      <td>NaN</td>\n",
              "      <td>1.0</td>\n",
              "    </tr>\n",
              "    <tr>\n",
              "      <th>19</th>\n",
              "      <td>0.0</td>\n",
              "      <td>NaN</td>\n",
              "      <td>0.0</td>\n",
              "    </tr>\n",
              "    <tr>\n",
              "      <th>20</th>\n",
              "      <td>0.0</td>\n",
              "      <td>NaN</td>\n",
              "      <td>0.0</td>\n",
              "    </tr>\n",
              "    <tr>\n",
              "      <th>21</th>\n",
              "      <td>0.0</td>\n",
              "      <td>NaN</td>\n",
              "      <td>1.0</td>\n",
              "    </tr>\n",
              "    <tr>\n",
              "      <th>22</th>\n",
              "      <td>0.0</td>\n",
              "      <td>NaN</td>\n",
              "      <td>1.0</td>\n",
              "    </tr>\n",
              "    <tr>\n",
              "      <th>23</th>\n",
              "      <td>0.0</td>\n",
              "      <td>NaN</td>\n",
              "      <td>0.0</td>\n",
              "    </tr>\n",
              "    <tr>\n",
              "      <th>24</th>\n",
              "      <td>0.0</td>\n",
              "      <td>NaN</td>\n",
              "      <td>0.0</td>\n",
              "    </tr>\n",
              "    <tr>\n",
              "      <th>25</th>\n",
              "      <td>0.0</td>\n",
              "      <td>NaN</td>\n",
              "      <td>0.0</td>\n",
              "    </tr>\n",
              "    <tr>\n",
              "      <th>26</th>\n",
              "      <td>1.0</td>\n",
              "      <td>NaN</td>\n",
              "      <td>0.0</td>\n",
              "    </tr>\n",
              "    <tr>\n",
              "      <th>27</th>\n",
              "      <td>0.0</td>\n",
              "      <td>NaN</td>\n",
              "      <td>0.0</td>\n",
              "    </tr>\n",
              "    <tr>\n",
              "      <th>28</th>\n",
              "      <td>1.0</td>\n",
              "      <td>NaN</td>\n",
              "      <td>0.0</td>\n",
              "    </tr>\n",
              "    <tr>\n",
              "      <th>29</th>\n",
              "      <td>0.0</td>\n",
              "      <td>NaN</td>\n",
              "      <td>0.0</td>\n",
              "    </tr>\n",
              "    <tr>\n",
              "      <th>...</th>\n",
              "      <td>...</td>\n",
              "      <td>...</td>\n",
              "      <td>...</td>\n",
              "    </tr>\n",
              "    <tr>\n",
              "      <th>9970</th>\n",
              "      <td>NaN</td>\n",
              "      <td>1.0</td>\n",
              "      <td>NaN</td>\n",
              "    </tr>\n",
              "    <tr>\n",
              "      <th>9971</th>\n",
              "      <td>NaN</td>\n",
              "      <td>0.0</td>\n",
              "      <td>NaN</td>\n",
              "    </tr>\n",
              "    <tr>\n",
              "      <th>9972</th>\n",
              "      <td>NaN</td>\n",
              "      <td>1.0</td>\n",
              "      <td>NaN</td>\n",
              "    </tr>\n",
              "    <tr>\n",
              "      <th>9973</th>\n",
              "      <td>NaN</td>\n",
              "      <td>1.0</td>\n",
              "      <td>NaN</td>\n",
              "    </tr>\n",
              "    <tr>\n",
              "      <th>9974</th>\n",
              "      <td>NaN</td>\n",
              "      <td>1.0</td>\n",
              "      <td>NaN</td>\n",
              "    </tr>\n",
              "    <tr>\n",
              "      <th>9975</th>\n",
              "      <td>NaN</td>\n",
              "      <td>1.0</td>\n",
              "      <td>NaN</td>\n",
              "    </tr>\n",
              "    <tr>\n",
              "      <th>9976</th>\n",
              "      <td>NaN</td>\n",
              "      <td>0.0</td>\n",
              "      <td>NaN</td>\n",
              "    </tr>\n",
              "    <tr>\n",
              "      <th>9977</th>\n",
              "      <td>NaN</td>\n",
              "      <td>0.0</td>\n",
              "      <td>NaN</td>\n",
              "    </tr>\n",
              "    <tr>\n",
              "      <th>9978</th>\n",
              "      <td>NaN</td>\n",
              "      <td>1.0</td>\n",
              "      <td>NaN</td>\n",
              "    </tr>\n",
              "    <tr>\n",
              "      <th>9979</th>\n",
              "      <td>NaN</td>\n",
              "      <td>0.0</td>\n",
              "      <td>NaN</td>\n",
              "    </tr>\n",
              "    <tr>\n",
              "      <th>9980</th>\n",
              "      <td>NaN</td>\n",
              "      <td>1.0</td>\n",
              "      <td>NaN</td>\n",
              "    </tr>\n",
              "    <tr>\n",
              "      <th>9981</th>\n",
              "      <td>NaN</td>\n",
              "      <td>1.0</td>\n",
              "      <td>NaN</td>\n",
              "    </tr>\n",
              "    <tr>\n",
              "      <th>9982</th>\n",
              "      <td>NaN</td>\n",
              "      <td>0.0</td>\n",
              "      <td>NaN</td>\n",
              "    </tr>\n",
              "    <tr>\n",
              "      <th>9983</th>\n",
              "      <td>NaN</td>\n",
              "      <td>1.0</td>\n",
              "      <td>NaN</td>\n",
              "    </tr>\n",
              "    <tr>\n",
              "      <th>9984</th>\n",
              "      <td>NaN</td>\n",
              "      <td>1.0</td>\n",
              "      <td>NaN</td>\n",
              "    </tr>\n",
              "    <tr>\n",
              "      <th>9985</th>\n",
              "      <td>NaN</td>\n",
              "      <td>1.0</td>\n",
              "      <td>NaN</td>\n",
              "    </tr>\n",
              "    <tr>\n",
              "      <th>9986</th>\n",
              "      <td>NaN</td>\n",
              "      <td>1.0</td>\n",
              "      <td>NaN</td>\n",
              "    </tr>\n",
              "    <tr>\n",
              "      <th>9987</th>\n",
              "      <td>NaN</td>\n",
              "      <td>1.0</td>\n",
              "      <td>NaN</td>\n",
              "    </tr>\n",
              "    <tr>\n",
              "      <th>9988</th>\n",
              "      <td>NaN</td>\n",
              "      <td>1.0</td>\n",
              "      <td>NaN</td>\n",
              "    </tr>\n",
              "    <tr>\n",
              "      <th>9989</th>\n",
              "      <td>NaN</td>\n",
              "      <td>1.0</td>\n",
              "      <td>NaN</td>\n",
              "    </tr>\n",
              "    <tr>\n",
              "      <th>9990</th>\n",
              "      <td>NaN</td>\n",
              "      <td>1.0</td>\n",
              "      <td>NaN</td>\n",
              "    </tr>\n",
              "    <tr>\n",
              "      <th>9991</th>\n",
              "      <td>NaN</td>\n",
              "      <td>0.0</td>\n",
              "      <td>NaN</td>\n",
              "    </tr>\n",
              "    <tr>\n",
              "      <th>9992</th>\n",
              "      <td>NaN</td>\n",
              "      <td>1.0</td>\n",
              "      <td>NaN</td>\n",
              "    </tr>\n",
              "    <tr>\n",
              "      <th>9993</th>\n",
              "      <td>NaN</td>\n",
              "      <td>1.0</td>\n",
              "      <td>NaN</td>\n",
              "    </tr>\n",
              "    <tr>\n",
              "      <th>9994</th>\n",
              "      <td>NaN</td>\n",
              "      <td>0.0</td>\n",
              "      <td>NaN</td>\n",
              "    </tr>\n",
              "    <tr>\n",
              "      <th>9995</th>\n",
              "      <td>NaN</td>\n",
              "      <td>1.0</td>\n",
              "      <td>NaN</td>\n",
              "    </tr>\n",
              "    <tr>\n",
              "      <th>9996</th>\n",
              "      <td>NaN</td>\n",
              "      <td>1.0</td>\n",
              "      <td>NaN</td>\n",
              "    </tr>\n",
              "    <tr>\n",
              "      <th>9997</th>\n",
              "      <td>NaN</td>\n",
              "      <td>0.0</td>\n",
              "      <td>NaN</td>\n",
              "    </tr>\n",
              "    <tr>\n",
              "      <th>9998</th>\n",
              "      <td>NaN</td>\n",
              "      <td>1.0</td>\n",
              "      <td>NaN</td>\n",
              "    </tr>\n",
              "    <tr>\n",
              "      <th>9999</th>\n",
              "      <td>NaN</td>\n",
              "      <td>0.0</td>\n",
              "      <td>NaN</td>\n",
              "    </tr>\n",
              "  </tbody>\n",
              "</table>\n",
              "<p>20000 rows × 3 columns</p>\n",
              "</div>"
            ],
            "text/plain": [
              "      Germany  Male  Spain\n",
              "0         0.0   NaN    0.0\n",
              "1         0.0   NaN    1.0\n",
              "2         0.0   NaN    0.0\n",
              "3         0.0   NaN    0.0\n",
              "4         0.0   NaN    1.0\n",
              "5         0.0   NaN    1.0\n",
              "6         0.0   NaN    0.0\n",
              "7         1.0   NaN    0.0\n",
              "8         0.0   NaN    0.0\n",
              "9         0.0   NaN    0.0\n",
              "10        0.0   NaN    0.0\n",
              "11        0.0   NaN    1.0\n",
              "12        0.0   NaN    0.0\n",
              "13        0.0   NaN    0.0\n",
              "14        0.0   NaN    1.0\n",
              "15        1.0   NaN    0.0\n",
              "16        1.0   NaN    0.0\n",
              "17        0.0   NaN    1.0\n",
              "18        0.0   NaN    1.0\n",
              "19        0.0   NaN    0.0\n",
              "20        0.0   NaN    0.0\n",
              "21        0.0   NaN    1.0\n",
              "22        0.0   NaN    1.0\n",
              "23        0.0   NaN    0.0\n",
              "24        0.0   NaN    0.0\n",
              "25        0.0   NaN    0.0\n",
              "26        1.0   NaN    0.0\n",
              "27        0.0   NaN    0.0\n",
              "28        1.0   NaN    0.0\n",
              "29        0.0   NaN    0.0\n",
              "...       ...   ...    ...\n",
              "9970      NaN   1.0    NaN\n",
              "9971      NaN   0.0    NaN\n",
              "9972      NaN   1.0    NaN\n",
              "9973      NaN   1.0    NaN\n",
              "9974      NaN   1.0    NaN\n",
              "9975      NaN   1.0    NaN\n",
              "9976      NaN   0.0    NaN\n",
              "9977      NaN   0.0    NaN\n",
              "9978      NaN   1.0    NaN\n",
              "9979      NaN   0.0    NaN\n",
              "9980      NaN   1.0    NaN\n",
              "9981      NaN   1.0    NaN\n",
              "9982      NaN   0.0    NaN\n",
              "9983      NaN   1.0    NaN\n",
              "9984      NaN   1.0    NaN\n",
              "9985      NaN   1.0    NaN\n",
              "9986      NaN   1.0    NaN\n",
              "9987      NaN   1.0    NaN\n",
              "9988      NaN   1.0    NaN\n",
              "9989      NaN   1.0    NaN\n",
              "9990      NaN   1.0    NaN\n",
              "9991      NaN   0.0    NaN\n",
              "9992      NaN   1.0    NaN\n",
              "9993      NaN   1.0    NaN\n",
              "9994      NaN   0.0    NaN\n",
              "9995      NaN   1.0    NaN\n",
              "9996      NaN   1.0    NaN\n",
              "9997      NaN   0.0    NaN\n",
              "9998      NaN   1.0    NaN\n",
              "9999      NaN   0.0    NaN\n",
              "\n",
              "[20000 rows x 3 columns]"
            ]
          },
          "metadata": {
            "tags": []
          },
          "execution_count": 8
        }
      ]
    },
    {
      "metadata": {
        "id": "BOjQvzSj3Jzc",
        "colab_type": "code",
        "colab": {}
      },
      "cell_type": "code",
      "source": [
        "s1 = pd.Series([2,3,4,7],index=[1,2,3,5])"
      ],
      "execution_count": 0,
      "outputs": []
    },
    {
      "metadata": {
        "id": "iWCByVCl3Jzg",
        "colab_type": "code",
        "outputId": "867bb54c-5c89-40c3-8837-e9b94a77058c",
        "colab": {
          "base_uri": "https://localhost:8080/",
          "height": 104
        }
      },
      "cell_type": "code",
      "source": [
        "s1"
      ],
      "execution_count": 0,
      "outputs": [
        {
          "output_type": "execute_result",
          "data": {
            "text/plain": [
              "1    2\n",
              "2    3\n",
              "3    4\n",
              "5    7\n",
              "dtype: int64"
            ]
          },
          "metadata": {
            "tags": []
          },
          "execution_count": 10
        }
      ]
    },
    {
      "metadata": {
        "id": "1INehJrN3Jzk",
        "colab_type": "code",
        "colab": {}
      },
      "cell_type": "code",
      "source": [
        "s2 = pd.Series([6,7,89,68],index=[1,2,3,4])"
      ],
      "execution_count": 0,
      "outputs": []
    },
    {
      "metadata": {
        "id": "YDDS5oVe3Jzn",
        "colab_type": "code",
        "outputId": "c899f633-57d8-4b6a-e413-9c28c392398f",
        "colab": {
          "base_uri": "https://localhost:8080/",
          "height": 104
        }
      },
      "cell_type": "code",
      "source": [
        "s2"
      ],
      "execution_count": 0,
      "outputs": [
        {
          "output_type": "execute_result",
          "data": {
            "text/plain": [
              "1     6\n",
              "2     7\n",
              "3    89\n",
              "4    68\n",
              "dtype: int64"
            ]
          },
          "metadata": {
            "tags": []
          },
          "execution_count": 12
        }
      ]
    },
    {
      "metadata": {
        "id": "Z-J8tGpQ3Jzr",
        "colab_type": "code",
        "colab": {}
      },
      "cell_type": "code",
      "source": [
        "d1 = pd.DataFrame({\"one\":s1,\"two\":s2,\"two3\":s2,\"tw22o\":s2})"
      ],
      "execution_count": 0,
      "outputs": []
    },
    {
      "metadata": {
        "id": "-usbruoS3Jzv",
        "colab_type": "code",
        "outputId": "d7ac18a2-6382-44f8-9204-00adc5f61b43",
        "colab": {
          "base_uri": "https://localhost:8080/",
          "height": 202
        }
      },
      "cell_type": "code",
      "source": [
        "d1"
      ],
      "execution_count": 0,
      "outputs": [
        {
          "output_type": "execute_result",
          "data": {
            "text/html": [
              "<div>\n",
              "<style scoped>\n",
              "    .dataframe tbody tr th:only-of-type {\n",
              "        vertical-align: middle;\n",
              "    }\n",
              "\n",
              "    .dataframe tbody tr th {\n",
              "        vertical-align: top;\n",
              "    }\n",
              "\n",
              "    .dataframe thead th {\n",
              "        text-align: right;\n",
              "    }\n",
              "</style>\n",
              "<table border=\"1\" class=\"dataframe\">\n",
              "  <thead>\n",
              "    <tr style=\"text-align: right;\">\n",
              "      <th></th>\n",
              "      <th>one</th>\n",
              "      <th>tw22o</th>\n",
              "      <th>two</th>\n",
              "      <th>two3</th>\n",
              "    </tr>\n",
              "  </thead>\n",
              "  <tbody>\n",
              "    <tr>\n",
              "      <th>1</th>\n",
              "      <td>2.0</td>\n",
              "      <td>6.0</td>\n",
              "      <td>6.0</td>\n",
              "      <td>6.0</td>\n",
              "    </tr>\n",
              "    <tr>\n",
              "      <th>2</th>\n",
              "      <td>3.0</td>\n",
              "      <td>7.0</td>\n",
              "      <td>7.0</td>\n",
              "      <td>7.0</td>\n",
              "    </tr>\n",
              "    <tr>\n",
              "      <th>3</th>\n",
              "      <td>4.0</td>\n",
              "      <td>89.0</td>\n",
              "      <td>89.0</td>\n",
              "      <td>89.0</td>\n",
              "    </tr>\n",
              "    <tr>\n",
              "      <th>4</th>\n",
              "      <td>NaN</td>\n",
              "      <td>68.0</td>\n",
              "      <td>68.0</td>\n",
              "      <td>68.0</td>\n",
              "    </tr>\n",
              "    <tr>\n",
              "      <th>5</th>\n",
              "      <td>7.0</td>\n",
              "      <td>NaN</td>\n",
              "      <td>NaN</td>\n",
              "      <td>NaN</td>\n",
              "    </tr>\n",
              "  </tbody>\n",
              "</table>\n",
              "</div>"
            ],
            "text/plain": [
              "   one  tw22o   two  two3\n",
              "1  2.0    6.0   6.0   6.0\n",
              "2  3.0    7.0   7.0   7.0\n",
              "3  4.0   89.0  89.0  89.0\n",
              "4  NaN   68.0  68.0  68.0\n",
              "5  7.0    NaN   NaN   NaN"
            ]
          },
          "metadata": {
            "tags": []
          },
          "execution_count": 14
        }
      ]
    },
    {
      "metadata": {
        "id": "_ThOkb5e3Jzz",
        "colab_type": "code",
        "outputId": "d7e04347-052b-4c8c-ea09-14d85f045e3b",
        "colab": {
          "base_uri": "https://localhost:8080/",
          "height": 222
        }
      },
      "cell_type": "code",
      "source": [
        "result = pd.concat([geo, gender], axis=1)\n",
        "\n",
        "\n",
        "del X[\"Geography\"],X[\"Gender\"]\n",
        "\n",
        "X =  pd.concat([X,result], axis=1)\n",
        "\n",
        "X.head()"
      ],
      "execution_count": 0,
      "outputs": [
        {
          "output_type": "execute_result",
          "data": {
            "text/html": [
              "<div>\n",
              "<style scoped>\n",
              "    .dataframe tbody tr th:only-of-type {\n",
              "        vertical-align: middle;\n",
              "    }\n",
              "\n",
              "    .dataframe tbody tr th {\n",
              "        vertical-align: top;\n",
              "    }\n",
              "\n",
              "    .dataframe thead th {\n",
              "        text-align: right;\n",
              "    }\n",
              "</style>\n",
              "<table border=\"1\" class=\"dataframe\">\n",
              "  <thead>\n",
              "    <tr style=\"text-align: right;\">\n",
              "      <th></th>\n",
              "      <th>CreditScore</th>\n",
              "      <th>Age</th>\n",
              "      <th>Tenure</th>\n",
              "      <th>Balance</th>\n",
              "      <th>NumOfProducts</th>\n",
              "      <th>HasCrCard</th>\n",
              "      <th>IsActiveMember</th>\n",
              "      <th>EstimatedSalary</th>\n",
              "      <th>Germany</th>\n",
              "      <th>Spain</th>\n",
              "      <th>Male</th>\n",
              "    </tr>\n",
              "  </thead>\n",
              "  <tbody>\n",
              "    <tr>\n",
              "      <th>0</th>\n",
              "      <td>619</td>\n",
              "      <td>42</td>\n",
              "      <td>2</td>\n",
              "      <td>0.00</td>\n",
              "      <td>1</td>\n",
              "      <td>1</td>\n",
              "      <td>1</td>\n",
              "      <td>101348.88</td>\n",
              "      <td>0</td>\n",
              "      <td>0</td>\n",
              "      <td>0</td>\n",
              "    </tr>\n",
              "    <tr>\n",
              "      <th>1</th>\n",
              "      <td>608</td>\n",
              "      <td>41</td>\n",
              "      <td>1</td>\n",
              "      <td>83807.86</td>\n",
              "      <td>1</td>\n",
              "      <td>0</td>\n",
              "      <td>1</td>\n",
              "      <td>112542.58</td>\n",
              "      <td>0</td>\n",
              "      <td>1</td>\n",
              "      <td>0</td>\n",
              "    </tr>\n",
              "    <tr>\n",
              "      <th>2</th>\n",
              "      <td>502</td>\n",
              "      <td>42</td>\n",
              "      <td>8</td>\n",
              "      <td>159660.80</td>\n",
              "      <td>3</td>\n",
              "      <td>1</td>\n",
              "      <td>0</td>\n",
              "      <td>113931.57</td>\n",
              "      <td>0</td>\n",
              "      <td>0</td>\n",
              "      <td>0</td>\n",
              "    </tr>\n",
              "    <tr>\n",
              "      <th>3</th>\n",
              "      <td>699</td>\n",
              "      <td>39</td>\n",
              "      <td>1</td>\n",
              "      <td>0.00</td>\n",
              "      <td>2</td>\n",
              "      <td>0</td>\n",
              "      <td>0</td>\n",
              "      <td>93826.63</td>\n",
              "      <td>0</td>\n",
              "      <td>0</td>\n",
              "      <td>0</td>\n",
              "    </tr>\n",
              "    <tr>\n",
              "      <th>4</th>\n",
              "      <td>850</td>\n",
              "      <td>43</td>\n",
              "      <td>2</td>\n",
              "      <td>125510.82</td>\n",
              "      <td>1</td>\n",
              "      <td>1</td>\n",
              "      <td>1</td>\n",
              "      <td>79084.10</td>\n",
              "      <td>0</td>\n",
              "      <td>1</td>\n",
              "      <td>0</td>\n",
              "    </tr>\n",
              "  </tbody>\n",
              "</table>\n",
              "</div>"
            ],
            "text/plain": [
              "   CreditScore  Age  Tenure    Balance  NumOfProducts  HasCrCard  \\\n",
              "0          619   42       2       0.00              1          1   \n",
              "1          608   41       1   83807.86              1          0   \n",
              "2          502   42       8  159660.80              3          1   \n",
              "3          699   39       1       0.00              2          0   \n",
              "4          850   43       2  125510.82              1          1   \n",
              "\n",
              "   IsActiveMember  EstimatedSalary  Germany  Spain  Male  \n",
              "0               1        101348.88        0      0     0  \n",
              "1               1        112542.58        0      1     0  \n",
              "2               0        113931.57        0      0     0  \n",
              "3               0         93826.63        0      0     0  \n",
              "4               1         79084.10        0      1     0  "
            ]
          },
          "metadata": {
            "tags": []
          },
          "execution_count": 15
        }
      ]
    },
    {
      "metadata": {
        "id": "agTBNm-s3Jz6",
        "colab_type": "code",
        "colab": {}
      },
      "cell_type": "code",
      "source": [
        "# Splitting the dataset into the Training set and Test set\n",
        "from sklearn.model_selection import train_test_split\n",
        "\n",
        "X_train, X_test, y_train, y_test = train_test_split(X, y, test_size = 0.2, random_state = 0)\n"
      ],
      "execution_count": 0,
      "outputs": []
    },
    {
      "metadata": {
        "id": "X77F9l3Y3Jz_",
        "colab_type": "code",
        "colab": {}
      },
      "cell_type": "code",
      "source": [
        "from sklearn.preprocessing import StandardScaler\n",
        "\n",
        "sc = StandardScaler()\n",
        "\n",
        "X_train = sc.fit_transform(X_train)\n",
        "\n",
        "X_test = sc.transform(X_test)"
      ],
      "execution_count": 0,
      "outputs": []
    },
    {
      "metadata": {
        "id": "LMvO8clP3J0C",
        "colab_type": "code",
        "outputId": "e174c601-5c69-4f69-e8c0-1b072372ea99",
        "colab": {
          "base_uri": "https://localhost:8080/",
          "height": 35
        }
      },
      "cell_type": "code",
      "source": [
        "X_train.shape"
      ],
      "execution_count": 0,
      "outputs": [
        {
          "output_type": "execute_result",
          "data": {
            "text/plain": [
              "(8000, 11)"
            ]
          },
          "metadata": {
            "tags": []
          },
          "execution_count": 18
        }
      ]
    },
    {
      "metadata": {
        "id": "tCfnEmhm3J0I",
        "colab_type": "code",
        "outputId": "1209521d-963f-460f-d59e-e9ae4864c370",
        "colab": {
          "base_uri": "https://localhost:8080/",
          "height": 35
        }
      },
      "cell_type": "code",
      "source": [
        "X_test.shape"
      ],
      "execution_count": 0,
      "outputs": [
        {
          "output_type": "execute_result",
          "data": {
            "text/plain": [
              "(2000, 11)"
            ]
          },
          "metadata": {
            "tags": []
          },
          "execution_count": 19
        }
      ]
    },
    {
      "metadata": {
        "id": "ml6GDabX3J0M",
        "colab_type": "text"
      },
      "cell_type": "markdown",
      "source": [
        "# Designing the ANN"
      ]
    },
    {
      "metadata": {
        "id": "4gA3JswD3J0M",
        "colab_type": "code",
        "outputId": "2c44077e-fc8d-4786-d2a9-db974a5a25fe",
        "colab": {
          "base_uri": "https://localhost:8080/",
          "height": 35
        }
      },
      "cell_type": "code",
      "source": [
        "# Importing the Keras libraries and packages\n",
        "import keras\n",
        "from keras.models import Sequential\n",
        "from keras.layers import Dense\n",
        "from keras.models import model_from_json\n",
        "\n",
        "# Initialising the ANN\n",
        "churn_model = Sequential()\n"
      ],
      "execution_count": 0,
      "outputs": [
        {
          "output_type": "stream",
          "text": [
            "Using TensorFlow backend.\n"
          ],
          "name": "stderr"
        }
      ]
    },
    {
      "metadata": {
        "id": "C7cieH143J0R",
        "colab_type": "code",
        "colab": {}
      },
      "cell_type": "code",
      "source": [
        "# Adding the input layer and the first hidden layer\n",
        "##kernel initializer/init = uniform weights in all synapses\n",
        "\n",
        "churn_model.add(Dense(units = 6, kernel_initializer = 'uniform', activation = 'relu', input_dim = 11))\n"
      ],
      "execution_count": 0,
      "outputs": []
    },
    {
      "metadata": {
        "id": "rhMQ1rdT3J0V",
        "colab_type": "code",
        "colab": {}
      },
      "cell_type": "code",
      "source": [
        "# Adding Second hidden layer\n",
        "\n",
        "churn_model.add(Dense(units = 6, kernel_initializer = 'uniform', activation = 'relu'))\n"
      ],
      "execution_count": 0,
      "outputs": []
    },
    {
      "metadata": {
        "id": "kw7kAzpF3J0Z",
        "colab_type": "code",
        "colab": {}
      },
      "cell_type": "code",
      "source": [
        "## Adding output layer\n",
        "\n",
        "churn_model.add(Dense(units = 1, kernel_initializer = 'uniform', activation = 'sigmoid'))\n"
      ],
      "execution_count": 0,
      "outputs": []
    },
    {
      "metadata": {
        "id": "oWzoZnrq3J0b",
        "colab_type": "code",
        "colab": {}
      },
      "cell_type": "code",
      "source": [
        "churn_model.compile(optimizer = 'adam', loss = 'binary_crossentropy', metrics = ['accuracy'])"
      ],
      "execution_count": 0,
      "outputs": []
    },
    {
      "metadata": {
        "id": "hXD8QeBn3J0h",
        "colab_type": "code",
        "outputId": "8aa5dcd7-33d8-4a1b-e8f4-44ddc7fed45e",
        "colab": {
          "base_uri": "https://localhost:8080/",
          "height": 3501
        }
      },
      "cell_type": "code",
      "source": [
        "# Fitting the ANN to the Training set\n",
        "churn_model.fit(X_train, y_train, batch_size = 10, epochs = 100)\n",
        "\n",
        "# serialize model to JSON\n",
        "model_json = model.to_json()\n",
        "with open(\"model.json\", \"w\") as json_file:\n",
        "    json_file.write(model_json)\n",
        "# serialize weights to HDF5\n",
        "model.save_weights(\"model.h5\")\n",
        "print(\"Saved model to disk\")\n",
        "\n"
      ],
      "execution_count": 0,
      "outputs": [
        {
          "output_type": "stream",
          "text": [
            "Epoch 1/100\n",
            "8000/8000 [==============================] - 1s 115us/step - loss: 0.4777 - acc: 0.7960\n",
            "Epoch 2/100\n",
            "8000/8000 [==============================] - 1s 97us/step - loss: 0.4275 - acc: 0.7960\n",
            "Epoch 3/100\n",
            "8000/8000 [==============================] - 1s 94us/step - loss: 0.4229 - acc: 0.8050\n",
            "Epoch 4/100\n",
            "8000/8000 [==============================] - 1s 90us/step - loss: 0.4192 - acc: 0.8217\n",
            "Epoch 5/100\n",
            "8000/8000 [==============================] - 1s 91us/step - loss: 0.4168 - acc: 0.8254\n",
            "Epoch 6/100\n",
            "8000/8000 [==============================] - 1s 90us/step - loss: 0.4152 - acc: 0.8276\n",
            "Epoch 7/100\n",
            "8000/8000 [==============================] - 1s 88us/step - loss: 0.4137 - acc: 0.8312\n",
            "Epoch 8/100\n",
            "8000/8000 [==============================] - 1s 90us/step - loss: 0.4122 - acc: 0.8309\n",
            "Epoch 9/100\n",
            "8000/8000 [==============================] - 1s 89us/step - loss: 0.4111 - acc: 0.8326\n",
            "Epoch 10/100\n",
            "8000/8000 [==============================] - 1s 90us/step - loss: 0.4101 - acc: 0.8316\n",
            "Epoch 11/100\n",
            "8000/8000 [==============================] - 1s 88us/step - loss: 0.4088 - acc: 0.8350\n",
            "Epoch 12/100\n",
            "8000/8000 [==============================] - 1s 90us/step - loss: 0.4081 - acc: 0.8339\n",
            "Epoch 13/100\n",
            "8000/8000 [==============================] - 1s 90us/step - loss: 0.4078 - acc: 0.8340\n",
            "Epoch 14/100\n",
            "8000/8000 [==============================] - 1s 87us/step - loss: 0.4072 - acc: 0.8347\n",
            "Epoch 15/100\n",
            "8000/8000 [==============================] - 1s 89us/step - loss: 0.4063 - acc: 0.8336\n",
            "Epoch 16/100\n",
            "8000/8000 [==============================] - 1s 89us/step - loss: 0.4059 - acc: 0.8335\n",
            "Epoch 17/100\n",
            "8000/8000 [==============================] - 1s 89us/step - loss: 0.4055 - acc: 0.8347\n",
            "Epoch 18/100\n",
            "8000/8000 [==============================] - 1s 89us/step - loss: 0.4047 - acc: 0.8337\n",
            "Epoch 19/100\n",
            "8000/8000 [==============================] - 1s 89us/step - loss: 0.4048 - acc: 0.8337\n",
            "Epoch 20/100\n",
            "8000/8000 [==============================] - 1s 91us/step - loss: 0.4040 - acc: 0.8355\n",
            "Epoch 21/100\n",
            "8000/8000 [==============================] - 1s 90us/step - loss: 0.4042 - acc: 0.8344\n",
            "Epoch 22/100\n",
            "8000/8000 [==============================] - 1s 90us/step - loss: 0.4037 - acc: 0.8352\n",
            "Epoch 23/100\n",
            "8000/8000 [==============================] - 1s 91us/step - loss: 0.4034 - acc: 0.8355\n",
            "Epoch 24/100\n",
            "8000/8000 [==============================] - 1s 89us/step - loss: 0.4032 - acc: 0.8349\n",
            "Epoch 25/100\n",
            "8000/8000 [==============================] - 1s 90us/step - loss: 0.4034 - acc: 0.8341\n",
            "Epoch 26/100\n",
            "8000/8000 [==============================] - 1s 90us/step - loss: 0.4030 - acc: 0.8349\n",
            "Epoch 27/100\n",
            "8000/8000 [==============================] - 1s 87us/step - loss: 0.4028 - acc: 0.8347\n",
            "Epoch 28/100\n",
            "8000/8000 [==============================] - 1s 88us/step - loss: 0.4026 - acc: 0.8326\n",
            "Epoch 29/100\n",
            "8000/8000 [==============================] - 1s 89us/step - loss: 0.4028 - acc: 0.8349\n",
            "Epoch 30/100\n",
            "8000/8000 [==============================] - 1s 88us/step - loss: 0.4024 - acc: 0.8346\n",
            "Epoch 31/100\n",
            "8000/8000 [==============================] - 1s 90us/step - loss: 0.4024 - acc: 0.8339\n",
            "Epoch 32/100\n",
            "8000/8000 [==============================] - 1s 88us/step - loss: 0.4023 - acc: 0.8342\n",
            "Epoch 33/100\n",
            "8000/8000 [==============================] - 1s 93us/step - loss: 0.4022 - acc: 0.8355\n",
            "Epoch 34/100\n",
            "8000/8000 [==============================] - 1s 91us/step - loss: 0.4018 - acc: 0.8352\n",
            "Epoch 35/100\n",
            "8000/8000 [==============================] - 1s 90us/step - loss: 0.4019 - acc: 0.8357\n",
            "Epoch 36/100\n",
            "8000/8000 [==============================] - 1s 88us/step - loss: 0.4015 - acc: 0.8341\n",
            "Epoch 37/100\n",
            "8000/8000 [==============================] - 1s 91us/step - loss: 0.4014 - acc: 0.8349\n",
            "Epoch 38/100\n",
            "8000/8000 [==============================] - 1s 90us/step - loss: 0.4018 - acc: 0.8344\n",
            "Epoch 39/100\n",
            "8000/8000 [==============================] - 1s 90us/step - loss: 0.4016 - acc: 0.8346\n",
            "Epoch 40/100\n",
            "8000/8000 [==============================] - 1s 90us/step - loss: 0.4015 - acc: 0.8345\n",
            "Epoch 41/100\n",
            "8000/8000 [==============================] - 1s 90us/step - loss: 0.4018 - acc: 0.8342\n",
            "Epoch 42/100\n",
            "8000/8000 [==============================] - 1s 88us/step - loss: 0.4008 - acc: 0.8355\n",
            "Epoch 43/100\n",
            "8000/8000 [==============================] - 1s 87us/step - loss: 0.4015 - acc: 0.8341\n",
            "Epoch 44/100\n",
            "8000/8000 [==============================] - 1s 90us/step - loss: 0.4004 - acc: 0.8341\n",
            "Epoch 45/100\n",
            "8000/8000 [==============================] - 1s 90us/step - loss: 0.4008 - acc: 0.8360\n",
            "Epoch 46/100\n",
            "8000/8000 [==============================] - 1s 89us/step - loss: 0.4009 - acc: 0.8351\n",
            "Epoch 47/100\n",
            "8000/8000 [==============================] - 1s 89us/step - loss: 0.4011 - acc: 0.8339\n",
            "Epoch 48/100\n",
            "8000/8000 [==============================] - 1s 89us/step - loss: 0.4007 - acc: 0.8344\n",
            "Epoch 49/100\n",
            "8000/8000 [==============================] - 1s 89us/step - loss: 0.4005 - acc: 0.8339\n",
            "Epoch 50/100\n",
            "8000/8000 [==============================] - 1s 89us/step - loss: 0.4013 - acc: 0.8356\n",
            "Epoch 51/100\n",
            "8000/8000 [==============================] - 1s 91us/step - loss: 0.4009 - acc: 0.8345\n",
            "Epoch 52/100\n",
            "8000/8000 [==============================] - 1s 90us/step - loss: 0.4009 - acc: 0.8345\n",
            "Epoch 53/100\n",
            "8000/8000 [==============================] - 1s 89us/step - loss: 0.4008 - acc: 0.8334\n",
            "Epoch 54/100\n",
            "8000/8000 [==============================] - 1s 88us/step - loss: 0.4003 - acc: 0.8377\n",
            "Epoch 55/100\n",
            "8000/8000 [==============================] - 1s 89us/step - loss: 0.4007 - acc: 0.8369\n",
            "Epoch 56/100\n",
            "8000/8000 [==============================] - 1s 88us/step - loss: 0.4008 - acc: 0.8350\n",
            "Epoch 57/100\n",
            "8000/8000 [==============================] - 1s 89us/step - loss: 0.4005 - acc: 0.8359\n",
            "Epoch 58/100\n",
            "8000/8000 [==============================] - 1s 88us/step - loss: 0.4008 - acc: 0.8340\n",
            "Epoch 59/100\n",
            "8000/8000 [==============================] - 1s 92us/step - loss: 0.4007 - acc: 0.8351\n",
            "Epoch 60/100\n",
            "8000/8000 [==============================] - 1s 90us/step - loss: 0.4011 - acc: 0.8342\n",
            "Epoch 61/100\n",
            "8000/8000 [==============================] - 1s 88us/step - loss: 0.4010 - acc: 0.8336\n",
            "Epoch 62/100\n",
            "8000/8000 [==============================] - 1s 93us/step - loss: 0.4007 - acc: 0.8354\n",
            "Epoch 63/100\n",
            "8000/8000 [==============================] - 1s 91us/step - loss: 0.4003 - acc: 0.8342\n",
            "Epoch 64/100\n",
            "8000/8000 [==============================] - 1s 90us/step - loss: 0.4005 - acc: 0.8356\n",
            "Epoch 65/100\n",
            "8000/8000 [==============================] - 1s 90us/step - loss: 0.4007 - acc: 0.8350\n",
            "Epoch 66/100\n",
            "8000/8000 [==============================] - 1s 91us/step - loss: 0.4006 - acc: 0.8342\n",
            "Epoch 67/100\n",
            "8000/8000 [==============================] - 1s 90us/step - loss: 0.4007 - acc: 0.8341\n",
            "Epoch 68/100\n",
            "8000/8000 [==============================] - 1s 89us/step - loss: 0.4005 - acc: 0.8350\n",
            "Epoch 69/100\n",
            "8000/8000 [==============================] - 1s 88us/step - loss: 0.4006 - acc: 0.8359\n",
            "Epoch 70/100\n",
            "8000/8000 [==============================] - 1s 90us/step - loss: 0.4002 - acc: 0.8361\n",
            "Epoch 71/100\n",
            "8000/8000 [==============================] - 1s 87us/step - loss: 0.4003 - acc: 0.8327\n",
            "Epoch 72/100\n",
            "8000/8000 [==============================] - 1s 89us/step - loss: 0.3998 - acc: 0.8349\n",
            "Epoch 73/100\n",
            "8000/8000 [==============================] - 1s 89us/step - loss: 0.4004 - acc: 0.8349\n",
            "Epoch 74/100\n",
            "8000/8000 [==============================] - 1s 87us/step - loss: 0.4004 - acc: 0.8347\n",
            "Epoch 75/100\n",
            "8000/8000 [==============================] - 1s 88us/step - loss: 0.3995 - acc: 0.8349\n",
            "Epoch 76/100\n",
            "8000/8000 [==============================] - 1s 91us/step - loss: 0.4006 - acc: 0.8352\n",
            "Epoch 77/100\n",
            "8000/8000 [==============================] - 1s 89us/step - loss: 0.4000 - acc: 0.8354\n",
            "Epoch 78/100\n",
            "8000/8000 [==============================] - 1s 89us/step - loss: 0.4005 - acc: 0.8339\n",
            "Epoch 79/100\n",
            "8000/8000 [==============================] - 1s 89us/step - loss: 0.4000 - acc: 0.8345\n",
            "Epoch 80/100\n",
            "8000/8000 [==============================] - 1s 88us/step - loss: 0.4003 - acc: 0.8342\n",
            "Epoch 81/100\n",
            "8000/8000 [==============================] - 1s 90us/step - loss: 0.4001 - acc: 0.8337\n",
            "Epoch 82/100\n",
            "8000/8000 [==============================] - 1s 88us/step - loss: 0.4004 - acc: 0.8331\n",
            "Epoch 83/100\n",
            "8000/8000 [==============================] - 1s 89us/step - loss: 0.4004 - acc: 0.8335\n",
            "Epoch 84/100\n",
            "8000/8000 [==============================] - 1s 89us/step - loss: 0.4000 - acc: 0.8339\n",
            "Epoch 85/100\n",
            "8000/8000 [==============================] - 1s 88us/step - loss: 0.4007 - acc: 0.8364\n",
            "Epoch 86/100\n",
            "8000/8000 [==============================] - 1s 89us/step - loss: 0.4006 - acc: 0.8350\n",
            "Epoch 87/100\n",
            "8000/8000 [==============================] - 1s 91us/step - loss: 0.4003 - acc: 0.8344\n",
            "Epoch 88/100\n",
            "8000/8000 [==============================] - 1s 91us/step - loss: 0.4002 - acc: 0.8346\n",
            "Epoch 89/100\n",
            "8000/8000 [==============================] - 1s 91us/step - loss: 0.4003 - acc: 0.8350\n",
            "Epoch 90/100\n",
            "8000/8000 [==============================] - 1s 88us/step - loss: 0.3999 - acc: 0.8340\n",
            "Epoch 91/100\n",
            "8000/8000 [==============================] - 1s 88us/step - loss: 0.3997 - acc: 0.8349\n",
            "Epoch 92/100\n",
            "8000/8000 [==============================] - 1s 88us/step - loss: 0.4006 - acc: 0.8334\n",
            "Epoch 93/100\n",
            "8000/8000 [==============================] - 1s 88us/step - loss: 0.4004 - acc: 0.8326\n",
            "Epoch 94/100\n",
            "8000/8000 [==============================] - 1s 89us/step - loss: 0.4000 - acc: 0.8352\n",
            "Epoch 95/100\n",
            "8000/8000 [==============================] - 1s 91us/step - loss: 0.3999 - acc: 0.8351\n",
            "Epoch 96/100\n",
            "8000/8000 [==============================] - 1s 89us/step - loss: 0.3998 - acc: 0.8342\n",
            "Epoch 97/100\n",
            "8000/8000 [==============================] - 1s 90us/step - loss: 0.3998 - acc: 0.8361\n",
            "Epoch 98/100\n",
            "8000/8000 [==============================] - 1s 90us/step - loss: 0.3999 - acc: 0.8342\n",
            "Epoch 99/100\n",
            "8000/8000 [==============================] - 1s 89us/step - loss: 0.3999 - acc: 0.8350\n",
            "Epoch 100/100\n",
            "8000/8000 [==============================] - 1s 88us/step - loss: 0.4002 - acc: 0.8342\n"
          ],
          "name": "stdout"
        },
        {
          "output_type": "execute_result",
          "data": {
            "text/plain": [
              "<keras.callbacks.History at 0x7f39d04ddfd0>"
            ]
          },
          "metadata": {
            "tags": []
          },
          "execution_count": 25
        }
      ]
    },
    {
      "metadata": {
        "id": "1zMDPbpM9-MB",
        "colab_type": "code",
        "colab": {}
      },
      "cell_type": "code",
      "source": [
        "from sklearn.ensemble import RandomForestClassifier\n",
        "# Supervised transformation based on random forests\n",
        "rf = RandomForestClassifier(max_depth=3, n_estimators=10)\n",
        "rf.fit(X_train, y_train)\n",
        "\n",
        "y_pred_rf = rf.predict_proba(X_test)[:, 1]\n",
        "fpr_rf, tpr_rf, thresholds_rf = roc_curve(y_test, y_pred_rf)\n",
        "auc_rf = auc(fpr_rf, tpr_rf)"
      ],
      "execution_count": 0,
      "outputs": []
    },
    {
      "metadata": {
        "id": "E00GgUPg3J0k",
        "colab_type": "code",
        "colab": {}
      },
      "cell_type": "code",
      "source": [
        "y_pred = churn_model.predict(X_test)"
      ],
      "execution_count": 0,
      "outputs": []
    },
    {
      "metadata": {
        "id": "k35HBK323J0n",
        "colab_type": "code",
        "colab": {}
      },
      "cell_type": "code",
      "source": [
        "y_ = y_pred >= 0.5"
      ],
      "execution_count": 0,
      "outputs": []
    },
    {
      "metadata": {
        "id": "ggQ3b6hF3J0r",
        "colab_type": "code",
        "outputId": "0c82ca12-4849-4983-d273-d81617951a16",
        "colab": {
          "base_uri": "https://localhost:8080/",
          "height": 34
        }
      },
      "cell_type": "code",
      "source": [
        "test = y_test.values.reshape(2000,1)\n",
        "compared = y_==test\n",
        "\n",
        "wrong = np.where(compared==False)[0]\n",
        "\n",
        "(len(y_)-len(wrong))/len(y_)"
      ],
      "execution_count": 0,
      "outputs": [
        {
          "output_type": "execute_result",
          "data": {
            "text/plain": [
              "0.843"
            ]
          },
          "metadata": {
            "tags": []
          },
          "execution_count": 37
        }
      ]
    },
    {
      "metadata": {
        "id": "bnAlPqgt3J0w",
        "colab_type": "code",
        "outputId": "01b9c83c-63be-4aa4-e6dc-2e1fc5d2d88b",
        "colab": {
          "base_uri": "https://localhost:8080/",
          "height": 34
        }
      },
      "cell_type": "code",
      "source": [
        "y_pred.shape"
      ],
      "execution_count": 0,
      "outputs": [
        {
          "output_type": "execute_result",
          "data": {
            "text/plain": [
              "(2000, 1)"
            ]
          },
          "metadata": {
            "tags": []
          },
          "execution_count": 38
        }
      ]
    },
    {
      "metadata": {
        "id": "4qNPzumW3J00",
        "colab_type": "code",
        "outputId": "e5e9b3ea-329b-4d91-99bf-13d578b88c6c",
        "colab": {
          "base_uri": "https://localhost:8080/",
          "height": 34
        }
      },
      "cell_type": "code",
      "source": [
        "y_test.shape"
      ],
      "execution_count": 0,
      "outputs": [
        {
          "output_type": "execute_result",
          "data": {
            "text/plain": [
              "(2000,)"
            ]
          },
          "metadata": {
            "tags": []
          },
          "execution_count": 39
        }
      ]
    },
    {
      "metadata": {
        "id": "XUobqMR_3J06",
        "colab_type": "code",
        "colab": {}
      },
      "cell_type": "code",
      "source": [
        "cm = confusion_matrix(y_test,y_)"
      ],
      "execution_count": 0,
      "outputs": []
    },
    {
      "metadata": {
        "id": "OQohuLQW3J08",
        "colab_type": "code",
        "outputId": "0e803dc5-69a4-4b6a-dcdb-7adca9714dc9",
        "colab": {
          "base_uri": "https://localhost:8080/",
          "height": 50
        }
      },
      "cell_type": "code",
      "source": [
        "cm"
      ],
      "execution_count": 0,
      "outputs": [
        {
          "output_type": "execute_result",
          "data": {
            "text/plain": [
              "array([[1545,   50],\n",
              "       [ 264,  141]])"
            ]
          },
          "metadata": {
            "tags": []
          },
          "execution_count": 41
        }
      ]
    },
    {
      "metadata": {
        "id": "f_xQvaAI3J1A",
        "colab_type": "code",
        "outputId": "f184adaa-19b1-4172-b4b4-1308500f73c6",
        "colab": {
          "base_uri": "https://localhost:8080/",
          "height": 34
        }
      },
      "cell_type": "code",
      "source": [
        "(cm[0,0]+cm[1,1])/len(y_)"
      ],
      "execution_count": 0,
      "outputs": [
        {
          "output_type": "execute_result",
          "data": {
            "text/plain": [
              "0.843"
            ]
          },
          "metadata": {
            "tags": []
          },
          "execution_count": 42
        }
      ]
    },
    {
      "metadata": {
        "id": "cuL0Hkyl3J1D",
        "colab_type": "code",
        "colab": {}
      },
      "cell_type": "code",
      "source": [
        "recall = lambda c: cm[0,0]/(cm[0,0]+cm[0,1])"
      ],
      "execution_count": 0,
      "outputs": []
    },
    {
      "metadata": {
        "id": "Ka51ysHY3J1G",
        "colab_type": "code",
        "colab": {}
      },
      "cell_type": "code",
      "source": [
        "prec = lambda c:cm[0,0]/(cm[0,0]+cm[1,0])"
      ],
      "execution_count": 0,
      "outputs": []
    },
    {
      "metadata": {
        "id": "0YmHOyKi3J1I",
        "colab_type": "code",
        "outputId": "f0e4a97b-2301-48c8-d7aa-627878c241b8",
        "colab": {
          "base_uri": "https://localhost:8080/",
          "height": 34
        }
      },
      "cell_type": "code",
      "source": [
        "prec(cm)"
      ],
      "execution_count": 0,
      "outputs": [
        {
          "output_type": "execute_result",
          "data": {
            "text/plain": [
              "0.8540630182421227"
            ]
          },
          "metadata": {
            "tags": []
          },
          "execution_count": 45
        }
      ]
    },
    {
      "metadata": {
        "id": "G7yOtNYW3J1L",
        "colab_type": "code",
        "colab": {}
      },
      "cell_type": "code",
      "source": [
        "thresh_val = np.linspace(0,1,11)"
      ],
      "execution_count": 0,
      "outputs": []
    },
    {
      "metadata": {
        "id": "VtpuF40D3J1O",
        "colab_type": "code",
        "outputId": "e8dcebbd-5ca7-454a-e3ed-1ba235ee2986",
        "colab": {
          "base_uri": "https://localhost:8080/",
          "height": 50
        }
      },
      "cell_type": "code",
      "source": [
        "r,p = [],[]\n",
        "\n",
        "for i in thresh_val:\n",
        "    y_ = y_pred >= i\n",
        "    cm = confusion_matrix(y_test,y_)\n",
        "    \n",
        "    r.append(recall(cm))\n",
        "    p.append(prec(cm))"
      ],
      "execution_count": 0,
      "outputs": [
        {
          "output_type": "stream",
          "text": [
            "/usr/local/lib/python3.6/dist-packages/ipykernel_launcher.py:1: RuntimeWarning: invalid value encountered in long_scalars\n",
            "  \"\"\"Entry point for launching an IPython kernel.\n"
          ],
          "name": "stderr"
        }
      ]
    },
    {
      "metadata": {
        "id": "GEIvupWR3J1Z",
        "colab_type": "code",
        "outputId": "01291e63-5eba-493c-aa04-c86981ad5288",
        "colab": {
          "base_uri": "https://localhost:8080/",
          "height": 378
        }
      },
      "cell_type": "code",
      "source": [
        "plt.ylabel('threshold')\n",
        "plt.xlabel('p/r')\n",
        "\n",
        "plt.plot(r,thresh_val)\n",
        "plt.plot(p,thresh_val)"
      ],
      "execution_count": 0,
      "outputs": [
        {
          "output_type": "execute_result",
          "data": {
            "text/plain": [
              "[<matplotlib.lines.Line2D at 0x7fbf4b664c88>]"
            ]
          },
          "metadata": {
            "tags": []
          },
          "execution_count": 48
        },
        {
          "output_type": "display_data",
          "data": {
            "image/png": "[encoded data removed]",
            "text/plain": [
              "<matplotlib.figure.Figure at 0x7fbf4e728048>"
            ]
          },
          "metadata": {
            "tags": []
          }
        }
      ]
    },
    {
      "metadata": {
        "id": "x2M8lew73J1f",
        "colab_type": "code",
        "colab": {}
      },
      "cell_type": "code",
      "source": [
        "new_pred = y_pred >= 0.4"
      ],
      "execution_count": 0,
      "outputs": []
    },
    {
      "metadata": {
        "id": "cGBdNqDM3J1k",
        "colab_type": "code",
        "colab": {}
      },
      "cell_type": "code",
      "source": [
        "old_pred = y_pred >= 0.5"
      ],
      "execution_count": 0,
      "outputs": []
    },
    {
      "metadata": {
        "id": "PM6pDwr93J1q",
        "colab_type": "code",
        "colab": {}
      },
      "cell_type": "code",
      "source": [
        "def acc(y_,y_test):\n",
        "\n",
        "    compared = y_==test\n",
        "\n",
        "    wrong = np.where(compared==False)[0]\n",
        "\n",
        "    return((len(y_)-len(wrong))/len(y_))"
      ],
      "execution_count": 0,
      "outputs": []
    },
    {
      "metadata": {
        "id": "MaxZtEOL3J1t",
        "colab_type": "code",
        "outputId": "b65643d4-dc05-469a-f96a-fd0413a8667f",
        "colab": {
          "base_uri": "https://localhost:8080/",
          "height": 34
        }
      },
      "cell_type": "code",
      "source": [
        "acc(old_pred,y_pred)"
      ],
      "execution_count": 0,
      "outputs": [
        {
          "output_type": "execute_result",
          "data": {
            "text/plain": [
              "0.843"
            ]
          },
          "metadata": {
            "tags": []
          },
          "execution_count": 52
        }
      ]
    },
    {
      "metadata": {
        "id": "4HyIzlCC3J1x",
        "colab_type": "code",
        "outputId": "0414c17b-d40e-46b4-e770-4f7ba69d8726",
        "colab": {
          "base_uri": "https://localhost:8080/",
          "height": 34
        }
      },
      "cell_type": "code",
      "source": [
        "acc(new_pred,y_pred)"
      ],
      "execution_count": 0,
      "outputs": [
        {
          "output_type": "execute_result",
          "data": {
            "text/plain": [
              "0.836"
            ]
          },
          "metadata": {
            "tags": []
          },
          "execution_count": 53
        }
      ]
    },
    {
      "metadata": {
        "id": "WRlziTq13J12",
        "colab_type": "code",
        "colab": {}
      },
      "cell_type": "code",
      "source": [
        "from sklearn.metrics import roc_curve\n",
        "\n",
        "y_pred_keras = churn_model.predict(X_test).ravel()\n",
        "fpr_keras, tpr_keras, thresholds_keras = roc_curve(y_test, y_pred_keras)"
      ],
      "execution_count": 0,
      "outputs": []
    },
    {
      "metadata": {
        "id": "BWvoebzb3J18",
        "colab_type": "code",
        "colab": {}
      },
      "cell_type": "code",
      "source": [
        "yi = churn_model.predict(X_test)"
      ],
      "execution_count": 0,
      "outputs": []
    },
    {
      "metadata": {
        "id": "duOh_Rjx3J1_",
        "colab_type": "code",
        "outputId": "61e77697-8f40-4870-e155-ded094de5566",
        "colab": {
          "base_uri": "https://localhost:8080/",
          "height": 34
        }
      },
      "cell_type": "code",
      "source": [
        "np.argmax(tpr_keras)"
      ],
      "execution_count": 0,
      "outputs": [
        {
          "output_type": "execute_result",
          "data": {
            "text/plain": [
              "481"
            ]
          },
          "metadata": {
            "tags": []
          },
          "execution_count": 59
        }
      ]
    },
    {
      "metadata": {
        "id": "F79km92i6hRi",
        "colab_type": "code",
        "outputId": "8de594e8-17a1-4f67-93c0-38068b368bc7",
        "colab": {
          "base_uri": "https://localhost:8080/",
          "height": 34
        }
      },
      "cell_type": "code",
      "source": [
        "tpr_keras[481],thresholds_keras[481]"
      ],
      "execution_count": 0,
      "outputs": [
        {
          "output_type": "execute_result",
          "data": {
            "text/plain": [
              "(1.0, 0.007428426)"
            ]
          },
          "metadata": {
            "tags": []
          },
          "execution_count": 60
        }
      ]
    },
    {
      "metadata": {
        "id": "2uDFyCB360SZ",
        "colab_type": "code",
        "colab": {}
      },
      "cell_type": "code",
      "source": [
        "from sklearn.metrics import auc"
      ],
      "execution_count": 0,
      "outputs": []
    },
    {
      "metadata": {
        "id": "oPxAA_fD7Rm2",
        "colab_type": "code",
        "colab": {}
      },
      "cell_type": "code",
      "source": [
        "auc_val = auc(fpr_keras,tpr_keras)"
      ],
      "execution_count": 0,
      "outputs": []
    },
    {
      "metadata": {
        "id": "1x2TX0DK7NSx",
        "colab_type": "code",
        "outputId": "11d24cc3-d9b8-42bc-f508-cde5ff46de24",
        "colab": {
          "base_uri": "https://localhost:8080/",
          "height": 34
        }
      },
      "cell_type": "code",
      "source": [
        "print(auc_val)"
      ],
      "execution_count": 0,
      "outputs": [
        {
          "output_type": "stream",
          "text": [
            "0.795882193583343\n"
          ],
          "name": "stdout"
        }
      ]
    },
    {
      "metadata": {
        "id": "MEN2m3z078KH",
        "colab_type": "code",
        "outputId": "605a3c74-22c8-46ca-9916-b4686692ed40",
        "colab": {
          "base_uri": "https://localhost:8080/",
          "height": 735
        }
      },
      "cell_type": "code",
      "source": [
        "plt.figure(1)\n",
        "plt.plot([0, 1], [0, 1], 'k--')\n",
        "plt.plot(fpr_keras, tpr_keras, label='Keras (area = {:.3f})'.format(auc_val))\n",
        "plt.plot(fpr_rf, tpr_rf, label='RF (area = {:.3f})'.format(auc_rf))\n",
        "plt.xlabel('False positive rate')\n",
        "plt.ylabel('True positive rate')\n",
        "plt.title('ROC curve')\n",
        "plt.legend(loc='best')\n",
        "plt.show()\n",
        "# Zoom in view of the upper left corner.\n",
        "plt.figure(2)\n",
        "plt.xlim(0, 0.4)\n",
        "plt.ylim(0.6, 1)\n",
        "plt.plot([0, 1], [0, 1], 'k--')\n",
        "plt.plot(fpr_keras, tpr_keras, label='Keras (area = {:.3f})'.format(auc_val))\n",
        "plt.plot(fpr_rf, tpr_rf, label='RF (area = {:.3f})'.format(auc_rf))\n",
        "plt.xlabel('False positive rate')\n",
        "plt.ylabel('True positive rate')\n",
        "plt.title('ROC curve (zoomed in at top left)')\n",
        "plt.legend(loc='best')\n",
        "plt.show()"
      ],
      "execution_count": 0,
      "outputs": [
        {
          "output_type": "display_data",
          "data": {
            "image/png": "[encoded data removed]",
            "text/plain": [
              "<matplotlib.figure.Figure at 0x7fbf47c64898>"
            ]
          },
          "metadata": {
            "tags": []
          }
        },
        {
          "output_type": "display_data",
          "data": {
            "image/png": "[encoded data removed]",
            "text/plain": [
              "<matplotlib.figure.Figure at 0x7fbf479c2e10>"
            ]
          },
          "metadata": {
            "tags": []
          }
        }
      ]
    },
    {
      "metadata": {
        "id": "X87fMjuQ9oo4",
        "colab_type": "code",
        "colab": {}
      },
      "cell_type": "code",
      "source": [
        ""
      ],
      "execution_count": 0,
      "outputs": []
    },
    {
      "metadata": {
        "id": "RCX3b9sY9ocQ",
        "colab_type": "code",
        "outputId": "84e2cc8d-8399-451f-f49c-846c3fe08b8d",
        "colab": {
          "base_uri": "https://localhost:8080/",
          "height": 34
        }
      },
      "cell_type": "code",
      "source": [
        "auc_rf"
      ],
      "execution_count": 0,
      "outputs": [
        {
          "output_type": "execute_result",
          "data": {
            "text/plain": [
              "0.8421409497271566"
            ]
          },
          "metadata": {
            "tags": []
          },
          "execution_count": 73
        }
      ]
    },
    {
      "metadata": {
        "id": "7kYnkI463nHQ",
        "colab_type": "text"
      },
      "cell_type": "markdown",
      "source": [
        "Importing the dataset from github"
      ]
    },
    {
      "metadata": {
        "id": "CgOON_EQ3J2D",
        "colab_type": "code",
        "colab": {}
      },
      "cell_type": "code",
      "source": [
        "from google.colab import files\n",
        "files.upload()"
      ],
      "execution_count": 0,
      "outputs": []
    },
    {
      "metadata": {
        "id": "IlAsKvwe4KN_",
        "colab_type": "code",
        "colab": {}
      },
      "cell_type": "code",
      "source": [
        "files.download('data.csv')"
      ],
      "execution_count": 0,
      "outputs": []
    },
    {
      "metadata": {
        "id": "FKLXPYTP3die",
        "colab_type": "text"
      },
      "cell_type": "markdown",
      "source": [
        "MAking single predictions"
      ]
    },
    {
      "metadata": {
        "id": "HL3ocsFB-Fru",
        "colab_type": "code",
        "outputId": "932b052b-1ac5-4edb-893a-de2f7fd43748",
        "colab": {
          "base_uri": "https://localhost:8080/",
          "height": 87
        }
      },
      "cell_type": "code",
      "source": [
        "# Predicting a single new observation\n",
        "\"\"\"Predict if the customer with the following informations will leave the bank:\n",
        "Geography: France\n",
        "Credit Score: 600\n",
        "Gender: Male\n",
        "Age: 40\n",
        "Tenure: 3\n",
        "Balance: 60000\n",
        "Number of Products: 2\n",
        "Has Credit Card: Yes\n",
        "Is Active Member: Yes\n",
        "Estimated Salary: 50000\"\"\"\n",
        "\n",
        "new_sample = np.array([[600,40,3,60000,2,1,1,50000,0,0,1]])\n",
        "\n",
        "churn_model.predict(sc.transform(new_sample)) >= 0.5"
      ],
      "execution_count": 0,
      "outputs": [
        {
          "output_type": "stream",
          "text": [
            "/usr/local/lib/python3.6/dist-packages/sklearn/utils/validation.py:475: DataConversionWarning: Data with input dtype int64 was converted to float64 by StandardScaler.\n",
            "  warnings.warn(msg, DataConversionWarning)\n"
          ],
          "name": "stderr"
        },
        {
          "output_type": "execute_result",
          "data": {
            "text/plain": [
              "array([[False]])"
            ]
          },
          "metadata": {
            "tags": []
          },
          "execution_count": 82
        }
      ]
    },
    {
      "metadata": {
        "id": "0TK2kaWA-SkA",
        "colab_type": "code",
        "outputId": "3681922f-d20f-4d04-a890-aee6e7bb7c8f",
        "colab": {
          "base_uri": "https://localhost:8080/",
          "height": 195
        }
      },
      "cell_type": "code",
      "source": [
        "X.head()"
      ],
      "execution_count": 0,
      "outputs": [
        {
          "output_type": "execute_result",
          "data": {
            "text/html": [
              "<div>\n",
              "<style scoped>\n",
              "    .dataframe tbody tr th:only-of-type {\n",
              "        vertical-align: middle;\n",
              "    }\n",
              "\n",
              "    .dataframe tbody tr th {\n",
              "        vertical-align: top;\n",
              "    }\n",
              "\n",
              "    .dataframe thead th {\n",
              "        text-align: right;\n",
              "    }\n",
              "</style>\n",
              "<table border=\"1\" class=\"dataframe\">\n",
              "  <thead>\n",
              "    <tr style=\"text-align: right;\">\n",
              "      <th></th>\n",
              "      <th>CreditScore</th>\n",
              "      <th>Age</th>\n",
              "      <th>Tenure</th>\n",
              "      <th>Balance</th>\n",
              "      <th>NumOfProducts</th>\n",
              "      <th>HasCrCard</th>\n",
              "      <th>IsActiveMember</th>\n",
              "      <th>EstimatedSalary</th>\n",
              "      <th>Germany</th>\n",
              "      <th>Spain</th>\n",
              "      <th>Male</th>\n",
              "    </tr>\n",
              "  </thead>\n",
              "  <tbody>\n",
              "    <tr>\n",
              "      <th>0</th>\n",
              "      <td>619</td>\n",
              "      <td>42</td>\n",
              "      <td>2</td>\n",
              "      <td>0.00</td>\n",
              "      <td>1</td>\n",
              "      <td>1</td>\n",
              "      <td>1</td>\n",
              "      <td>101348.88</td>\n",
              "      <td>0</td>\n",
              "      <td>0</td>\n",
              "      <td>0</td>\n",
              "    </tr>\n",
              "    <tr>\n",
              "      <th>1</th>\n",
              "      <td>608</td>\n",
              "      <td>41</td>\n",
              "      <td>1</td>\n",
              "      <td>83807.86</td>\n",
              "      <td>1</td>\n",
              "      <td>0</td>\n",
              "      <td>1</td>\n",
              "      <td>112542.58</td>\n",
              "      <td>0</td>\n",
              "      <td>1</td>\n",
              "      <td>0</td>\n",
              "    </tr>\n",
              "    <tr>\n",
              "      <th>2</th>\n",
              "      <td>502</td>\n",
              "      <td>42</td>\n",
              "      <td>8</td>\n",
              "      <td>159660.80</td>\n",
              "      <td>3</td>\n",
              "      <td>1</td>\n",
              "      <td>0</td>\n",
              "      <td>113931.57</td>\n",
              "      <td>0</td>\n",
              "      <td>0</td>\n",
              "      <td>0</td>\n",
              "    </tr>\n",
              "    <tr>\n",
              "      <th>3</th>\n",
              "      <td>699</td>\n",
              "      <td>39</td>\n",
              "      <td>1</td>\n",
              "      <td>0.00</td>\n",
              "      <td>2</td>\n",
              "      <td>0</td>\n",
              "      <td>0</td>\n",
              "      <td>93826.63</td>\n",
              "      <td>0</td>\n",
              "      <td>0</td>\n",
              "      <td>0</td>\n",
              "    </tr>\n",
              "    <tr>\n",
              "      <th>4</th>\n",
              "      <td>850</td>\n",
              "      <td>43</td>\n",
              "      <td>2</td>\n",
              "      <td>125510.82</td>\n",
              "      <td>1</td>\n",
              "      <td>1</td>\n",
              "      <td>1</td>\n",
              "      <td>79084.10</td>\n",
              "      <td>0</td>\n",
              "      <td>1</td>\n",
              "      <td>0</td>\n",
              "    </tr>\n",
              "  </tbody>\n",
              "</table>\n",
              "</div>"
            ],
            "text/plain": [
              "   CreditScore  Age  Tenure    Balance  NumOfProducts  HasCrCard  \\\n",
              "0          619   42       2       0.00              1          1   \n",
              "1          608   41       1   83807.86              1          0   \n",
              "2          502   42       8  159660.80              3          1   \n",
              "3          699   39       1       0.00              2          0   \n",
              "4          850   43       2  125510.82              1          1   \n",
              "\n",
              "   IsActiveMember  EstimatedSalary  Germany  Spain  Male  \n",
              "0               1        101348.88        0      0     0  \n",
              "1               1        112542.58        0      1     0  \n",
              "2               0        113931.57        0      0     0  \n",
              "3               0         93826.63        0      0     0  \n",
              "4               1         79084.10        0      1     0  "
            ]
          },
          "metadata": {
            "tags": []
          },
          "execution_count": 76
        }
      ]
    },
    {
      "metadata": {
        "id": "GyoAFPTH-WSC",
        "colab_type": "code",
        "colab": {}
      },
      "cell_type": "code",
      "source": [
        "# load json and create model\n",
        "json_file = open('model.json', 'r')\n",
        "loaded_model_json = json_file.read()\n",
        "json_file.close()\n",
        "loaded_model = model_from_json(loaded_model_json)\n",
        "# load weights into new model\n",
        "loaded_model.load_weights(\"model.h5\")\n",
        "print(\"Loaded model from disk\")\n"
      ],
      "execution_count": 0,
      "outputs": []
    }
  ]
}